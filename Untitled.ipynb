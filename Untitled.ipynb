{
 "cells": [
  {
   "cell_type": "code",
   "execution_count": 1,
   "metadata": {},
   "outputs": [],
   "source": [
    "setwd(\"/home/daniel/Dokumente/ueberlagerteSTA/\")\n",
    "library(gtools)\n",
    "library(ggplot2)"
   ]
  },
  {
   "cell_type": "code",
   "execution_count": 19,
   "metadata": {},
   "outputs": [],
   "source": [
    "df <- read.csv2(file= \"./combinations-zfw-new.csv\", stringsAsFactors = F, sep = \";\")\n",
    "df <- df[,1:10]"
   ]
  },
  {
   "cell_type": "code",
   "execution_count": 20,
   "metadata": {},
   "outputs": [
    {
     "data": {
      "text/html": [
       "<table>\n",
       "<thead><tr><th scope=col>ZCH1_SOLL</th><th scope=col>ZCH2_SOLL</th><th scope=col>ZCH3_SOLL</th><th scope=col>GESAMT_SOLL</th><th scope=col>ZCH1_IST</th><th scope=col>ZCH2_IST</th><th scope=col>ZCH3_IST</th><th scope=col>GESAMT_IST</th><th scope=col>ZFW</th><th scope=col>ZFW_NEW</th></tr></thead>\n",
       "<tbody>\n",
       "\t<tr><td>13</td><td>1 </td><td>1 </td><td>15</td><td>0 </td><td>0 </td><td>0 </td><td>0 </td><td>15</td><td>0 </td></tr>\n",
       "\t<tr><td>12</td><td>2 </td><td>1 </td><td>15</td><td>0 </td><td>0 </td><td>0 </td><td>0 </td><td>15</td><td>0 </td></tr>\n",
       "\t<tr><td>11</td><td>2 </td><td>2 </td><td>15</td><td>0 </td><td>0 </td><td>0 </td><td>0 </td><td>15</td><td>0 </td></tr>\n",
       "\t<tr><td>10</td><td>3 </td><td>2 </td><td>15</td><td>0 </td><td>0 </td><td>0 </td><td>0 </td><td>15</td><td>0 </td></tr>\n",
       "\t<tr><td> 9</td><td>3 </td><td>3 </td><td>15</td><td>0 </td><td>0 </td><td>0 </td><td>0 </td><td>15</td><td>0 </td></tr>\n",
       "\t<tr><td> 8</td><td>4 </td><td>3 </td><td>15</td><td>0 </td><td>0 </td><td>0 </td><td>0 </td><td>15</td><td>0 </td></tr>\n",
       "</tbody>\n",
       "</table>\n"
      ],
      "text/latex": [
       "\\begin{tabular}{r|llllllllll}\n",
       " ZCH1\\_SOLL & ZCH2\\_SOLL & ZCH3\\_SOLL & GESAMT\\_SOLL & ZCH1\\_IST & ZCH2\\_IST & ZCH3\\_IST & GESAMT\\_IST & ZFW & ZFW\\_NEW\\\\\n",
       "\\hline\n",
       "\t 13 & 1  & 1  & 15 & 0  & 0  & 0  & 0  & 15 & 0 \\\\\n",
       "\t 12 & 2  & 1  & 15 & 0  & 0  & 0  & 0  & 15 & 0 \\\\\n",
       "\t 11 & 2  & 2  & 15 & 0  & 0  & 0  & 0  & 15 & 0 \\\\\n",
       "\t 10 & 3  & 2  & 15 & 0  & 0  & 0  & 0  & 15 & 0 \\\\\n",
       "\t  9 & 3  & 3  & 15 & 0  & 0  & 0  & 0  & 15 & 0 \\\\\n",
       "\t  8 & 4  & 3  & 15 & 0  & 0  & 0  & 0  & 15 & 0 \\\\\n",
       "\\end{tabular}\n"
      ],
      "text/markdown": [
       "\n",
       "ZCH1_SOLL | ZCH2_SOLL | ZCH3_SOLL | GESAMT_SOLL | ZCH1_IST | ZCH2_IST | ZCH3_IST | GESAMT_IST | ZFW | ZFW_NEW | \n",
       "|---|---|---|---|---|---|\n",
       "| 13 | 1  | 1  | 15 | 0  | 0  | 0  | 0  | 15 | 0  | \n",
       "| 12 | 2  | 1  | 15 | 0  | 0  | 0  | 0  | 15 | 0  | \n",
       "| 11 | 2  | 2  | 15 | 0  | 0  | 0  | 0  | 15 | 0  | \n",
       "| 10 | 3  | 2  | 15 | 0  | 0  | 0  | 0  | 15 | 0  | \n",
       "|  9 | 3  | 3  | 15 | 0  | 0  | 0  | 0  | 15 | 0  | \n",
       "|  8 | 4  | 3  | 15 | 0  | 0  | 0  | 0  | 15 | 0  | \n",
       "\n",
       "\n"
      ],
      "text/plain": [
       "  ZCH1_SOLL ZCH2_SOLL ZCH3_SOLL GESAMT_SOLL ZCH1_IST ZCH2_IST ZCH3_IST\n",
       "1 13        1         1         15          0        0        0       \n",
       "2 12        2         1         15          0        0        0       \n",
       "3 11        2         2         15          0        0        0       \n",
       "4 10        3         2         15          0        0        0       \n",
       "5  9        3         3         15          0        0        0       \n",
       "6  8        4         3         15          0        0        0       \n",
       "  GESAMT_IST ZFW ZFW_NEW\n",
       "1 0          15  0      \n",
       "2 0          15  0      \n",
       "3 0          15  0      \n",
       "4 0          15  0      \n",
       "5 0          15  0      \n",
       "6 0          15  0      "
      ]
     },
     "metadata": {},
     "output_type": "display_data"
    }
   ],
   "source": [
    "head(df)"
   ]
  },
  {
   "cell_type": "code",
   "execution_count": 21,
   "metadata": {},
   "outputs": [
    {
     "data": {
      "text/html": [
       "<table>\n",
       "<thead><tr><th></th><th scope=col>ZCH1_SOLL</th><th scope=col>ZCH2_SOLL</th><th scope=col>ZCH3_SOLL</th><th scope=col>GESAMT_SOLL</th><th scope=col>ZCH1_IST</th><th scope=col>ZCH2_IST</th><th scope=col>ZCH3_IST</th><th scope=col>GESAMT_IST</th><th scope=col>ZFW</th><th scope=col>ZFW_NEW</th></tr></thead>\n",
       "<tbody>\n",
       "\t<tr><th scope=row>3651</th><td>13       </td><td>1        </td><td>1        </td><td>15       </td><td>11       </td><td>1        </td><td>1        </td><td>13       </td><td>0.3076923</td><td>6.045598 </td></tr>\n",
       "\t<tr><th scope=row>3660</th><td>13       </td><td>1        </td><td>1        </td><td>15       </td><td>12       </td><td>0        </td><td>1        </td><td>13       </td><td>1.0769231</td><td>5.098859 </td></tr>\n",
       "\t<tr><th scope=row>3663</th><td>13       </td><td>1        </td><td>1        </td><td>15       </td><td>12       </td><td>1        </td><td>0        </td><td>13       </td><td>1.0769231</td><td>5.098859 </td></tr>\n",
       "\t<tr><th scope=row>3666</th><td>13       </td><td>1        </td><td>1        </td><td>15       </td><td>13       </td><td>0        </td><td>0        </td><td>13       </td><td>2.0000000</td><td>4.139656 </td></tr>\n",
       "</tbody>\n",
       "</table>\n"
      ],
      "text/latex": [
       "\\begin{tabular}{r|llllllllll}\n",
       "  & ZCH1\\_SOLL & ZCH2\\_SOLL & ZCH3\\_SOLL & GESAMT\\_SOLL & ZCH1\\_IST & ZCH2\\_IST & ZCH3\\_IST & GESAMT\\_IST & ZFW & ZFW\\_NEW\\\\\n",
       "\\hline\n",
       "\t3651 & 13        & 1         & 1         & 15        & 11        & 1         & 1         & 13        & 0.3076923 & 6.045598 \\\\\n",
       "\t3660 & 13        & 1         & 1         & 15        & 12        & 0         & 1         & 13        & 1.0769231 & 5.098859 \\\\\n",
       "\t3663 & 13        & 1         & 1         & 15        & 12        & 1         & 0         & 13        & 1.0769231 & 5.098859 \\\\\n",
       "\t3666 & 13        & 1         & 1         & 15        & 13        & 0         & 0         & 13        & 2.0000000 & 4.139656 \\\\\n",
       "\\end{tabular}\n"
      ],
      "text/markdown": [
       "\n",
       "| <!--/--> | ZCH1_SOLL | ZCH2_SOLL | ZCH3_SOLL | GESAMT_SOLL | ZCH1_IST | ZCH2_IST | ZCH3_IST | GESAMT_IST | ZFW | ZFW_NEW | \n",
       "|---|---|---|---|\n",
       "| 3651 | 13        | 1         | 1         | 15        | 11        | 1         | 1         | 13        | 0.3076923 | 6.045598  | \n",
       "| 3660 | 13        | 1         | 1         | 15        | 12        | 0         | 1         | 13        | 1.0769231 | 5.098859  | \n",
       "| 3663 | 13        | 1         | 1         | 15        | 12        | 1         | 0         | 13        | 1.0769231 | 5.098859  | \n",
       "| 3666 | 13        | 1         | 1         | 15        | 13        | 0         | 0         | 13        | 2.0000000 | 4.139656  | \n",
       "\n",
       "\n"
      ],
      "text/plain": [
       "     ZCH1_SOLL ZCH2_SOLL ZCH3_SOLL GESAMT_SOLL ZCH1_IST ZCH2_IST ZCH3_IST\n",
       "3651 13        1         1         15          11       1        1       \n",
       "3660 13        1         1         15          12       0        1       \n",
       "3663 13        1         1         15          12       1        0       \n",
       "3666 13        1         1         15          13       0        0       \n",
       "     GESAMT_IST ZFW       ZFW_NEW \n",
       "3651 13         0.3076923 6.045598\n",
       "3660 13         1.0769231 5.098859\n",
       "3663 13         1.0769231 5.098859\n",
       "3666 13         2.0000000 4.139656"
      ]
     },
     "metadata": {},
     "output_type": "display_data"
    }
   ],
   "source": [
    "df[df$GESAMT_SOLL == 15 & df$ZCH1_SOLL == 13 & df$GESAMT_IST == 13,]"
   ]
  },
  {
   "cell_type": "code",
   "execution_count": 22,
   "metadata": {},
   "outputs": [
    {
     "data": {
      "text/html": [
       "<table>\n",
       "<thead><tr><th></th><th scope=col>ZCH1_SOLL</th><th scope=col>ZCH2_SOLL</th><th scope=col>ZCH3_SOLL</th><th scope=col>GESAMT_SOLL</th><th scope=col>ZCH1_IST</th><th scope=col>ZCH2_IST</th><th scope=col>ZCH3_IST</th><th scope=col>GESAMT_IST</th><th scope=col>ZFW</th><th scope=col>ZFW_NEW</th></tr></thead>\n",
       "<tbody>\n",
       "\t<tr><th scope=row>1128</th><td>13      </td><td>1       </td><td>1       </td><td>15      </td><td>3       </td><td>1       </td><td>1       </td><td>5       </td><td>7.692308</td><td>4.352713</td></tr>\n",
       "\t<tr><th scope=row>1186</th><td>13      </td><td>1       </td><td>1       </td><td>15      </td><td>4       </td><td>0       </td><td>1       </td><td>5       </td><td>7.230769</td><td>3.802138</td></tr>\n",
       "\t<tr><th scope=row>1217</th><td>13      </td><td>1       </td><td>1       </td><td>15      </td><td>4       </td><td>1       </td><td>0       </td><td>5       </td><td>7.230769</td><td>3.802138</td></tr>\n",
       "\t<tr><th scope=row>1248</th><td>13      </td><td>1       </td><td>1       </td><td>15      </td><td>5       </td><td>0       </td><td>0       </td><td>5       </td><td>6.923077</td><td>3.146390</td></tr>\n",
       "</tbody>\n",
       "</table>\n"
      ],
      "text/latex": [
       "\\begin{tabular}{r|llllllllll}\n",
       "  & ZCH1\\_SOLL & ZCH2\\_SOLL & ZCH3\\_SOLL & GESAMT\\_SOLL & ZCH1\\_IST & ZCH2\\_IST & ZCH3\\_IST & GESAMT\\_IST & ZFW & ZFW\\_NEW\\\\\n",
       "\\hline\n",
       "\t1128 & 13       & 1        & 1        & 15       & 3        & 1        & 1        & 5        & 7.692308 & 4.352713\\\\\n",
       "\t1186 & 13       & 1        & 1        & 15       & 4        & 0        & 1        & 5        & 7.230769 & 3.802138\\\\\n",
       "\t1217 & 13       & 1        & 1        & 15       & 4        & 1        & 0        & 5        & 7.230769 & 3.802138\\\\\n",
       "\t1248 & 13       & 1        & 1        & 15       & 5        & 0        & 0        & 5        & 6.923077 & 3.146390\\\\\n",
       "\\end{tabular}\n"
      ],
      "text/markdown": [
       "\n",
       "| <!--/--> | ZCH1_SOLL | ZCH2_SOLL | ZCH3_SOLL | GESAMT_SOLL | ZCH1_IST | ZCH2_IST | ZCH3_IST | GESAMT_IST | ZFW | ZFW_NEW | \n",
       "|---|---|---|---|\n",
       "| 1128 | 13       | 1        | 1        | 15       | 3        | 1        | 1        | 5        | 7.692308 | 4.352713 | \n",
       "| 1186 | 13       | 1        | 1        | 15       | 4        | 0        | 1        | 5        | 7.230769 | 3.802138 | \n",
       "| 1217 | 13       | 1        | 1        | 15       | 4        | 1        | 0        | 5        | 7.230769 | 3.802138 | \n",
       "| 1248 | 13       | 1        | 1        | 15       | 5        | 0        | 0        | 5        | 6.923077 | 3.146390 | \n",
       "\n",
       "\n"
      ],
      "text/plain": [
       "     ZCH1_SOLL ZCH2_SOLL ZCH3_SOLL GESAMT_SOLL ZCH1_IST ZCH2_IST ZCH3_IST\n",
       "1128 13        1         1         15          3        1        1       \n",
       "1186 13        1         1         15          4        0        1       \n",
       "1217 13        1         1         15          4        1        0       \n",
       "1248 13        1         1         15          5        0        0       \n",
       "     GESAMT_IST ZFW      ZFW_NEW \n",
       "1128 5          7.692308 4.352713\n",
       "1186 5          7.230769 3.802138\n",
       "1217 5          7.230769 3.802138\n",
       "1248 5          6.923077 3.146390"
      ]
     },
     "metadata": {},
     "output_type": "display_data"
    }
   ],
   "source": [
    "df[df$GESAMT_SOLL == 15 & df$ZCH1_SOLL == 13 & df$GESAMT_IST == 5,]"
   ]
  },
  {
   "cell_type": "code",
   "execution_count": 23,
   "metadata": {},
   "outputs": [
    {
     "data": {
      "text/html": [
       "<table>\n",
       "<thead><tr><th></th><th scope=col>ZCH1_SOLL</th><th scope=col>ZCH2_SOLL</th><th scope=col>ZCH3_SOLL</th><th scope=col>GESAMT_SOLL</th><th scope=col>ZCH1_IST</th><th scope=col>ZCH2_IST</th><th scope=col>ZCH3_IST</th><th scope=col>GESAMT_IST</th><th scope=col>ZFW</th><th scope=col>ZFW_NEW</th></tr></thead>\n",
       "<tbody>\n",
       "\t<tr><th scope=row>1553</th><td>13      </td><td>1       </td><td>1       </td><td>15      </td><td>4       </td><td>1       </td><td>1       </td><td>6       </td><td>6.230769</td><td>4.802138</td></tr>\n",
       "\t<tr><th scope=row>1611</th><td>13      </td><td>1       </td><td>1       </td><td>15      </td><td>5       </td><td>0       </td><td>1       </td><td>6       </td><td>5.923077</td><td>4.146390</td></tr>\n",
       "\t<tr><th scope=row>1641</th><td>13      </td><td>1       </td><td>1       </td><td>15      </td><td>5       </td><td>1       </td><td>0       </td><td>6       </td><td>5.923077</td><td>4.146390</td></tr>\n",
       "\t<tr><th scope=row>1671</th><td>13      </td><td>1       </td><td>1       </td><td>15      </td><td>6       </td><td>0       </td><td>0       </td><td>6       </td><td>5.769231</td><td>3.410081</td></tr>\n",
       "</tbody>\n",
       "</table>\n"
      ],
      "text/latex": [
       "\\begin{tabular}{r|llllllllll}\n",
       "  & ZCH1\\_SOLL & ZCH2\\_SOLL & ZCH3\\_SOLL & GESAMT\\_SOLL & ZCH1\\_IST & ZCH2\\_IST & ZCH3\\_IST & GESAMT\\_IST & ZFW & ZFW\\_NEW\\\\\n",
       "\\hline\n",
       "\t1553 & 13       & 1        & 1        & 15       & 4        & 1        & 1        & 6        & 6.230769 & 4.802138\\\\\n",
       "\t1611 & 13       & 1        & 1        & 15       & 5        & 0        & 1        & 6        & 5.923077 & 4.146390\\\\\n",
       "\t1641 & 13       & 1        & 1        & 15       & 5        & 1        & 0        & 6        & 5.923077 & 4.146390\\\\\n",
       "\t1671 & 13       & 1        & 1        & 15       & 6        & 0        & 0        & 6        & 5.769231 & 3.410081\\\\\n",
       "\\end{tabular}\n"
      ],
      "text/markdown": [
       "\n",
       "| <!--/--> | ZCH1_SOLL | ZCH2_SOLL | ZCH3_SOLL | GESAMT_SOLL | ZCH1_IST | ZCH2_IST | ZCH3_IST | GESAMT_IST | ZFW | ZFW_NEW | \n",
       "|---|---|---|---|\n",
       "| 1553 | 13       | 1        | 1        | 15       | 4        | 1        | 1        | 6        | 6.230769 | 4.802138 | \n",
       "| 1611 | 13       | 1        | 1        | 15       | 5        | 0        | 1        | 6        | 5.923077 | 4.146390 | \n",
       "| 1641 | 13       | 1        | 1        | 15       | 5        | 1        | 0        | 6        | 5.923077 | 4.146390 | \n",
       "| 1671 | 13       | 1        | 1        | 15       | 6        | 0        | 0        | 6        | 5.769231 | 3.410081 | \n",
       "\n",
       "\n"
      ],
      "text/plain": [
       "     ZCH1_SOLL ZCH2_SOLL ZCH3_SOLL GESAMT_SOLL ZCH1_IST ZCH2_IST ZCH3_IST\n",
       "1553 13        1         1         15          4        1        1       \n",
       "1611 13        1         1         15          5        0        1       \n",
       "1641 13        1         1         15          5        1        0       \n",
       "1671 13        1         1         15          6        0        0       \n",
       "     GESAMT_IST ZFW      ZFW_NEW \n",
       "1553 6          6.230769 4.802138\n",
       "1611 6          5.923077 4.146390\n",
       "1641 6          5.923077 4.146390\n",
       "1671 6          5.769231 3.410081"
      ]
     },
     "metadata": {},
     "output_type": "display_data"
    }
   ],
   "source": [
    "df[df$GESAMT_SOLL == 15 & df$ZCH1_SOLL == 13 & df$GESAMT_IST == 6,]"
   ]
  },
  {
   "cell_type": "code",
   "execution_count": 24,
   "metadata": {},
   "outputs": [
    {
     "data": {
      "text/html": [
       "<table>\n",
       "<thead><tr><th></th><th scope=col>ZCH1_SOLL</th><th scope=col>ZCH2_SOLL</th><th scope=col>ZCH3_SOLL</th><th scope=col>GESAMT_SOLL</th><th scope=col>ZCH1_IST</th><th scope=col>ZCH2_IST</th><th scope=col>ZCH3_IST</th><th scope=col>GESAMT_IST</th><th scope=col>ZFW</th><th scope=col>ZFW_NEW</th></tr></thead>\n",
       "<tbody>\n",
       "\t<tr><th scope=row>1993</th><td>13      </td><td>1       </td><td>1       </td><td>15      </td><td>5       </td><td>1       </td><td>1       </td><td>7       </td><td>4.923077</td><td>5.146390</td></tr>\n",
       "\t<tr><th scope=row>2049</th><td>13      </td><td>1       </td><td>1       </td><td>15      </td><td>6       </td><td>0       </td><td>1       </td><td>7       </td><td>4.769231</td><td>4.410081</td></tr>\n",
       "\t<tr><th scope=row>2075</th><td>13      </td><td>1       </td><td>1       </td><td>15      </td><td>6       </td><td>1       </td><td>0       </td><td>7       </td><td>4.769231</td><td>4.410081</td></tr>\n",
       "\t<tr><th scope=row>2101</th><td>13      </td><td>1       </td><td>1       </td><td>15      </td><td>7       </td><td>0       </td><td>0       </td><td>7       </td><td>4.769231</td><td>3.612064</td></tr>\n",
       "</tbody>\n",
       "</table>\n"
      ],
      "text/latex": [
       "\\begin{tabular}{r|llllllllll}\n",
       "  & ZCH1\\_SOLL & ZCH2\\_SOLL & ZCH3\\_SOLL & GESAMT\\_SOLL & ZCH1\\_IST & ZCH2\\_IST & ZCH3\\_IST & GESAMT\\_IST & ZFW & ZFW\\_NEW\\\\\n",
       "\\hline\n",
       "\t1993 & 13       & 1        & 1        & 15       & 5        & 1        & 1        & 7        & 4.923077 & 5.146390\\\\\n",
       "\t2049 & 13       & 1        & 1        & 15       & 6        & 0        & 1        & 7        & 4.769231 & 4.410081\\\\\n",
       "\t2075 & 13       & 1        & 1        & 15       & 6        & 1        & 0        & 7        & 4.769231 & 4.410081\\\\\n",
       "\t2101 & 13       & 1        & 1        & 15       & 7        & 0        & 0        & 7        & 4.769231 & 3.612064\\\\\n",
       "\\end{tabular}\n"
      ],
      "text/markdown": [
       "\n",
       "| <!--/--> | ZCH1_SOLL | ZCH2_SOLL | ZCH3_SOLL | GESAMT_SOLL | ZCH1_IST | ZCH2_IST | ZCH3_IST | GESAMT_IST | ZFW | ZFW_NEW | \n",
       "|---|---|---|---|\n",
       "| 1993 | 13       | 1        | 1        | 15       | 5        | 1        | 1        | 7        | 4.923077 | 5.146390 | \n",
       "| 2049 | 13       | 1        | 1        | 15       | 6        | 0        | 1        | 7        | 4.769231 | 4.410081 | \n",
       "| 2075 | 13       | 1        | 1        | 15       | 6        | 1        | 0        | 7        | 4.769231 | 4.410081 | \n",
       "| 2101 | 13       | 1        | 1        | 15       | 7        | 0        | 0        | 7        | 4.769231 | 3.612064 | \n",
       "\n",
       "\n"
      ],
      "text/plain": [
       "     ZCH1_SOLL ZCH2_SOLL ZCH3_SOLL GESAMT_SOLL ZCH1_IST ZCH2_IST ZCH3_IST\n",
       "1993 13        1         1         15          5        1        1       \n",
       "2049 13        1         1         15          6        0        1       \n",
       "2075 13        1         1         15          6        1        0       \n",
       "2101 13        1         1         15          7        0        0       \n",
       "     GESAMT_IST ZFW      ZFW_NEW \n",
       "1993 7          4.923077 5.146390\n",
       "2049 7          4.769231 4.410081\n",
       "2075 7          4.769231 4.410081\n",
       "2101 7          4.769231 3.612064"
      ]
     },
     "metadata": {},
     "output_type": "display_data"
    }
   ],
   "source": [
    "df[df$GESAMT_SOLL == 15 & df$ZCH1_SOLL == 13 & df$GESAMT_IST == 7,]"
   ]
  },
  {
   "cell_type": "code",
   "execution_count": null,
   "metadata": {},
   "outputs": [],
   "source": []
  }
 ],
 "metadata": {
  "kernelspec": {
   "display_name": "R",
   "language": "R",
   "name": "ir"
  },
  "language_info": {
   "codemirror_mode": "r",
   "file_extension": ".r",
   "mimetype": "text/x-r-source",
   "name": "R",
   "pygments_lexer": "r",
   "version": "3.2.3"
  }
 },
 "nbformat": 4,
 "nbformat_minor": 2
}
